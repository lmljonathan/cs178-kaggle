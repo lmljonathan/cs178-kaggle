{
 "cells": [
  {
   "cell_type": "code",
   "execution_count": 1,
   "metadata": {},
   "outputs": [],
   "source": [
    "# Import all required libraries\n",
    "from __future__ import division # For python 2.*\n",
    "\n",
    "import numpy as np\n",
    "import matplotlib.pyplot as plt\n",
    "import mltools as ml\n",
    "\n",
    "from sklearn import *\n",
    "from sklearn.metrics import roc_auc_score \n",
    "\n",
    "np.random.seed(0)\n",
    "%matplotlib inline"
   ]
  },
  {
   "cell_type": "code",
   "execution_count": 2,
   "metadata": {},
   "outputs": [],
   "source": [
    "# Data Loading\n",
    "X = np.genfromtxt('data/X_train.txt', delimiter=None)\n",
    "Y = np.genfromtxt('data/Y_train.txt', delimiter=None)\n",
    "\n",
    "# The test data\n",
    "Xte = np.genfromtxt('data/X_test.txt', delimiter=None)\n",
    "\n",
    "Xtr, Xva, Ytr, Yva = ml.splitData(X, Y)\n",
    "Xtr, Ytr = ml.shuffleData(Xtr, Ytr)\n",
    "\n",
    "# Taking a subsample of the data so that trains faster.  You should train on whole data for homework and Kaggle.\n",
    "Xt, Yt = Xtr[:4000], Ytr[:4000]"
   ]
  },
  {
   "cell_type": "code",
   "execution_count": 28,
   "metadata": {},
   "outputs": [],
   "source": [
    "def predictValidation(classifier) -> (float, list):\n",
    "    classifier.fit(Xt, Yt)\n",
    "    YvaHat = classifier.predict_proba(Xva)[:,1]\n",
    "    auc_score = roc_auc_score(Yva, YvaHat)\n",
    "    return (auc_score, YvaHat)"
   ]
  },
  {
   "cell_type": "code",
   "execution_count": 29,
   "metadata": {},
   "outputs": [],
   "source": [
    "def predictTest(classifier) -> list:\n",
    "    classifier.fit(Xtr, Ytr)\n",
    "    YteHat = classifier.predict(Xte)\n",
    "    return YteHat"
   ]
  },
  {
   "cell_type": "markdown",
   "metadata": {},
   "source": [
    "## Logistic Regression using Scalar Preprocessing"
   ]
  },
  {
   "cell_type": "code",
   "execution_count": 56,
   "metadata": {
    "scrolled": true
   },
   "outputs": [
    {
     "name": "stdout",
     "output_type": "stream",
     "text": [
      "0.6324625797116111\n"
     ]
    },
    {
     "name": "stderr",
     "output_type": "stream",
     "text": [
      "/usr/local/lib/python3.7/site-packages/sklearn/linear_model/sag.py:334: ConvergenceWarning: The max_iter was reached which means the coef_ did not converge\n",
      "  \"the coef_ did not converge\", ConvergenceWarning)\n"
     ]
    }
   ],
   "source": [
    "from sklearn.linear_model import LogisticRegression\n",
    "from sklearn.preprocessing import StandardScaler\n",
    "\n",
    "lreg = LogisticRegression(random_state=0, solver='sag', multi_class='multinomial', max_iter=1000)\n",
    "print(predictValidation(lreg)[0])"
   ]
  },
  {
   "cell_type": "markdown",
   "metadata": {},
   "source": [
    "## KNN"
   ]
  },
  {
   "cell_type": "code",
   "execution_count": 6,
   "metadata": {
    "scrolled": true
   },
   "outputs": [
    {
     "name": "stdout",
     "output_type": "stream",
     "text": [
      "0.5881487130765016\n"
     ]
    }
   ],
   "source": [
    "from sklearn.neighbors import KNeighborsClassifier\n",
    "\n",
    "knn = KNeighborsClassifier(n_neighbors=20, weights=\"distance\")\n",
    "print(predictValidation(knn)[0])"
   ]
  },
  {
   "cell_type": "markdown",
   "metadata": {},
   "source": [
    "## Random Forests"
   ]
  },
  {
   "cell_type": "code",
   "execution_count": 60,
   "metadata": {
    "scrolled": true
   },
   "outputs": [
    {
     "name": "stdout",
     "output_type": "stream",
     "text": [
      "0.6694208535543542\n"
     ]
    }
   ],
   "source": [
    "from sklearn.ensemble import RandomForestClassifier\n",
    "\n",
    "rfc = RandomForestClassifier(n_estimators=1000, min_samples_leaf=5, n_jobs=-1, oob_score=True)\n",
    "print(predictValidation(rfc)[0])"
   ]
  },
  {
   "cell_type": "markdown",
   "metadata": {},
   "source": [
    "## Test Weighing and Blending on Validation Data"
   ]
  },
  {
   "cell_type": "code",
   "execution_count": 61,
   "metadata": {},
   "outputs": [
    {
     "name": "stderr",
     "output_type": "stream",
     "text": [
      "/usr/local/lib/python3.7/site-packages/sklearn/linear_model/sag.py:334: ConvergenceWarning: The max_iter was reached which means the coef_ did not converge\n",
      "  \"the coef_ did not converge\", ConvergenceWarning)\n"
     ]
    },
    {
     "name": "stdout",
     "output_type": "stream",
     "text": [
      "{'lreg': 6, 'knn': 1, 'rfc': 9} -> 0.6741458338314154\n"
     ]
    }
   ],
   "source": [
    "classifiers = {\"lreg\": lreg, \"knn\": knn, \"rfc\": rfc}\n",
    "weights = {\"lreg\": 6, \"knn\": 1, \"rfc\": 9}\n",
    "\n",
    "def runValidation(weights):\n",
    "    t = []\n",
    "    for i in range(np.shape(Yva)[0]):\n",
    "        t.append([])\n",
    "\n",
    "    for name, classifier in classifiers.items():\n",
    "        weight = weights[name]\n",
    "        res = predictValidation(classifier)[1]\n",
    "\n",
    "        for i, val in enumerate(res):\n",
    "            for x in range(weight):\n",
    "                t[i].append(val)\n",
    "\n",
    "    YvaHat = []\n",
    "    for vals in t:\n",
    "        YvaHat.append(np.mean(vals))\n",
    "\n",
    "    auc_score = roc_auc_score(Yva, YvaHat)\n",
    "    print(weights, \"->\", auc_score)\n",
    "\n",
    "runValidation(weights)"
   ]
  },
  {
   "cell_type": "markdown",
   "metadata": {},
   "source": [
    "## Final Run on Test Data and Submission"
   ]
  },
  {
   "cell_type": "code",
   "execution_count": 9,
   "metadata": {},
   "outputs": [],
   "source": [
    "import time\n",
    "# a helper function to generate a file\n",
    "def to_kaggle(YteHat):\n",
    "    current_time_str = time.strftime(\"%H-%M-%S_%a_%b_%d\", time.localtime())\n",
    "    file_name = \"results/{}.txt\".format(current_time_str)\n",
    "    np.savetxt(file_name,\n",
    "           np.vstack( (np.arange(len(prediction)) , prediction) ).T,\n",
    "           '%d, %.2f',header='ID,Prob1',comments='',delimiter=',');"
   ]
  },
  {
   "cell_type": "code",
   "execution_count": 62,
   "metadata": {
    "scrolled": true
   },
   "outputs": [
    {
     "name": "stderr",
     "output_type": "stream",
     "text": [
      "/usr/local/lib/python3.7/site-packages/sklearn/linear_model/sag.py:334: ConvergenceWarning: The max_iter was reached which means the coef_ did not converge\n",
      "  \"the coef_ did not converge\", ConvergenceWarning)\n"
     ]
    }
   ],
   "source": [
    "def runFinalAndSaveToKaggle():\n",
    "    t = []\n",
    "    for i in range(np.shape(Xte)[0]):\n",
    "        t.append([])\n",
    "\n",
    "    for name, classifier in classifiers.items():\n",
    "        weight = weights[name]\n",
    "        res = predictTest(classifier)\n",
    "\n",
    "        for i, val in enumerate(res):\n",
    "            for x in range(weight):\n",
    "                t[i].append(val)\n",
    "\n",
    "    YteHat = []\n",
    "    for vals in t:\n",
    "        YteHat.append(np.mean(vals))\n",
    "\n",
    "    to_kaggle(YteHat)"
   ]
  }
 ],
 "metadata": {
  "kernelspec": {
   "display_name": "Python 3",
   "language": "python",
   "name": "python3"
  },
  "language_info": {
   "codemirror_mode": {
    "name": "ipython",
    "version": 3
   },
   "file_extension": ".py",
   "mimetype": "text/x-python",
   "name": "python",
   "nbconvert_exporter": "python",
   "pygments_lexer": "ipython3",
   "version": "3.7.0"
  }
 },
 "nbformat": 4,
 "nbformat_minor": 2
}
